{
 "cells": [
  {
   "cell_type": "code",
   "execution_count": 17,
   "id": "c662ebab-9471-465b-93cd-1d1f222ba550",
   "metadata": {},
   "outputs": [],
   "source": [
    "# ! conda install scikit-learn -y"
   ]
  },
  {
   "cell_type": "code",
   "execution_count": null,
   "id": "e88e25d3-0488-4575-8b6e-2234d9a66130",
   "metadata": {},
   "outputs": [],
   "source": []
  },
  {
   "cell_type": "code",
   "execution_count": 44,
   "id": "97897bd0",
   "metadata": {},
   "outputs": [],
   "source": [
    "import numpy as np\n",
    "import pandas as pd\n",
    "import seaborn as sns\n",
    "import matplotlib.pyplot as plt\n",
    "\n",
    "from rdkit import Chem\n",
    "from mordred import Calculator, descriptors\n",
    "\n",
    "from sklearn.model_selection import train_test_split\n",
    "from sklearn.metrics import mean_squared_error\n",
    "from sklearn.tree import DecisionTreeRegressor\n",
    "from sklearn.ensemble import AdaBoostRegressor\n",
    "\n",
    "from rdkit import Chem\n",
    "from rdkit.Chem import Descriptors, Lipinski\n",
    "from mordred import Calculator, descriptors"
   ]
  },
  {
   "cell_type": "code",
   "execution_count": 45,
   "id": "5fe98d7a-6e61-4351-a107-810cc181cf55",
   "metadata": {},
   "outputs": [],
   "source": [
    "dataset = pd.read_csv('mTOR_dataset.csv', lineterminator='\\n')\n",
    "\n",
    "# Extract features and target\n",
    "# Split the train and test set\n",
    "\n",
    "non_numeric_metadata_columns = [\"molecule_chembl_id\", \"class\", \"canonical_smiles\"]\n",
    "\n",
    "dataset = dataset.drop(non_numeric_metadata_columns, axis=1)\n",
    "\n",
    "X = dataset.drop('pIC50', axis=1)\n",
    "Y = dataset.pIC50"
   ]
  },
  {
   "cell_type": "code",
   "execution_count": null,
   "id": "e32d47ac-6dd1-4476-b060-fe9fed911915",
   "metadata": {},
   "outputs": [],
   "source": []
  },
  {
   "cell_type": "code",
   "execution_count": 46,
   "id": "c436d884-7586-4f82-9967-f895ca07075c",
   "metadata": {},
   "outputs": [
    {
     "name": "stderr",
     "output_type": "stream",
     "text": [
      "100%|███████████████████████████████████████████| 24/24 [00:02<00:00, 11.50it/s]\n"
     ]
    },
    {
     "name": "stdout",
     "output_type": "stream",
     "text": [
      "/home/vitsuji/anaconda3/envs/BioActivity/lib/python3.9/site-packages/numpy/core/fromnumeric.py:88: RuntimeWarning: overflow encountered in reduce\n",
      "  return ufunc.reduce(obj, axis, dtype, out, **passkwargs)\n"
     ]
    }
   ],
   "source": [
    "#############################\n",
    "# Test on Specific Molecule #\n",
    "#############################\n",
    "# Production / Deployment  #\n",
    "############################\n",
    "\n",
    "\n",
    "molecules_of_interest = {\n",
    "    'Name': [\n",
    "        'Arginine', \n",
    "        'Histidine', \n",
    "        'Isoleucine', \n",
    "        'Leucine', \n",
    "        'L-Leucine', \n",
    "        'Lysine', \n",
    "        'Methionine', \n",
    "        'Phenylalanine', \n",
    "        'Threonine', \n",
    "        'Tryptophan', \n",
    "        'L-Tryptophan', \n",
    "        'Valine', \n",
    "        'Alanine', \n",
    "        'Asparagine', \n",
    "        'Aspartate', \n",
    "        'Glutamate', \n",
    "        'Glycine', \n",
    "        'Serine', \n",
    "        'Tyrosine', \n",
    "        'Cysteine', \n",
    "        'Glutamine', \n",
    "        'Hydroxyproline', \n",
    "        'Proline', \n",
    "        'Taurine'\n",
    "            ],\n",
    "    'canonical_smiles': [\n",
    "        'CC1CCC2CC(C(=CC=CC=CC(CC(C(=O)C(C(C(=CC(C(=O)CC(OC(=O)C3CCCCN3C(=O)C(=O)C1(O2)O)C(C)CC4CCC(C(C4)OC)O)C)C)O)OC)C)C)C)OC', \n",
    "        'C1=C(NC=N1)CC(C(=O)O)N', 'CCC(C)C(C(=O)O)N', 'CC(C)CC(C(=O)O)N', 'NC(C(=O)O)CC(C)C', 'C(CCN)CC(C(=O)O)N', 'CSCCC(C(=O)O)N', 'C1=CC=C(C=C1)CC(C(=O)O)N', 'CC(C(C(=O)O)N)O', 'C1=CC=C2C(=C1)C(=CN2)CC(C(=O)O)N', 'OC(=O)C(Cc1c[nH]c2c1cccc2)N', 'CC(C)C(C(=O)O)N', 'CC(C(=O)O)N', 'C(C(C(=O)O)N)C(=O)N', 'C(C(C(=O)[O-])[NH3+])C(=O)[O-]', 'C(CC(=O)[O-])C(C(=O)[O-])[NH3+]', 'C(C(=O)O)N', 'C(C(C(=O)O)N)O', 'C1=CC(=CC=C1CC(C(=O)O)N)O', 'C(C(C(=O)O)N)S', 'C(CC(=O)N)C(C(=O)O)N', 'C1C(CNC1C(=O)O)O', 'C1CC(NC1)C(=O)O', 'C(CS(=O)(=O)O)N'\n",
    "    ]\n",
    "}\n",
    "\n",
    "target_df = pd.DataFrame(molecules_of_interest)\n",
    "\n",
    "########################\n",
    "# Lipinski Descriptors #\n",
    "########################\n",
    "\n",
    "# Function to calculate lipinski descriptors\n",
    "\n",
    "def lipinski(smiles, verbose=False):\n",
    "\n",
    "    moldata = []\n",
    "    \n",
    "    for elem in smiles:\n",
    "        mol = Chem.MolFromSmiles(elem)\n",
    "        moldata.append(mol)\n",
    "       \n",
    "    baseData= np.arange(1,1)\n",
    "    i=0  \n",
    "    for mol in moldata:        \n",
    "       \n",
    "        desc_MolWt = Descriptors.MolWt(mol)\n",
    "        desc_MolLogP = Descriptors.MolLogP(mol)\n",
    "        desc_NumHDonors = Lipinski.NumHDonors(mol)\n",
    "        desc_NumHAcceptors = Lipinski.NumHAcceptors(mol)\n",
    "           \n",
    "        row = np.array([desc_MolWt,\n",
    "                        desc_MolLogP,\n",
    "                        desc_NumHDonors,\n",
    "                        desc_NumHAcceptors])   \n",
    "    \n",
    "        if(i==0):\n",
    "            baseData=row\n",
    "        else:\n",
    "            baseData=np.vstack([baseData, row])\n",
    "        i=i+1      \n",
    "    \n",
    "    columnNames=[\"MW\",\"LogP\",\"NumHDonors\",\"NumHAcceptors\"]\n",
    "    descriptors = pd.DataFrame(data=baseData,columns=columnNames)\n",
    "    \n",
    "    return descriptors\n",
    "\n",
    "df_lipinski = lipinski(target_df.canonical_smiles)\n",
    "target_df = pd.concat([target_df, df_lipinski], axis=1)\n",
    "\n",
    "\n",
    "###########################\n",
    "# Adding more Descriptors #\n",
    "###########################\n",
    "\n",
    "# Convert smiles to molecules\n",
    "\n",
    "calc = Calculator(descriptors, ignore_3D=True)\n",
    "mols = [Chem.MolFromSmiles(smi) for smi in target_df.canonical_smiles.tolist()]\n",
    "\n",
    "# Calculate Descriptors for enzymes\n",
    "\n",
    "descriptors_df = calc.pandas(mols)\n",
    "\n",
    "target_df = pd.concat([descriptors_df, target_df], axis=1)\n",
    "\n",
    "#################\n",
    "# Preprocessing #\n",
    "#################\n",
    "\n",
    "target_df = target_df.apply(pd.to_numeric, errors='coerce').dropna(axis=1)\n",
    "\n",
    "# Imputing Missing Values - change to regression imputing (more accurate)\n",
    "# # fit regression model using Bayesian Ridge\n",
    "# imputer = IterativeImputer(estimator=BayesianRidge())\n",
    "\n",
    "# # impute missing values\n",
    "# imputed_data = imputer.fit_transform(features)\n",
    "\n",
    "target_df = target_df.fillna(X.mean())\n"
   ]
  },
  {
   "cell_type": "code",
   "execution_count": null,
   "id": "8b6d9590-a720-4a25-9a83-205a9569678c",
   "metadata": {},
   "outputs": [],
   "source": []
  },
  {
   "cell_type": "code",
   "execution_count": 47,
   "id": "37d61c40-a7ca-4fa1-8dcd-7d4075781f0c",
   "metadata": {},
   "outputs": [],
   "source": [
    "\n",
    "# Keep only the common columns\n",
    "\n",
    "common_columns = list(set(X.columns.tolist()) & set(target_df.columns.tolist()))\n",
    "\n",
    "target_df = target_df[common_columns]\n",
    "target_df = target_df.loc[:,~target_df.columns.duplicated()].copy()\n",
    "\n",
    "X = X[common_columns]\n",
    "X = X.loc[:,~X.columns.duplicated()].copy()\n"
   ]
  },
  {
   "cell_type": "code",
   "execution_count": null,
   "id": "d077807b-fef0-48c6-9f51-a732bf6dcb40",
   "metadata": {},
   "outputs": [],
   "source": []
  },
  {
   "cell_type": "code",
   "execution_count": 51,
   "id": "7a49be26-3860-4237-bfa1-483ddf5ad182",
   "metadata": {},
   "outputs": [
    {
     "name": "stdout",
     "output_type": "stream",
     "text": [
      "Model Score Train 0.9186675729352355\n",
      "Model Score Test 0.8642431769623212\n",
      "Mean Squared Error: 0.4242921672147465\n"
     ]
    }
   ],
   "source": [
    "##################\n",
    "# Training Model #\n",
    "##################\n",
    "\n",
    "# Split Dataset\n",
    "\n",
    "X_train, X_test, Y_train, Y_test = train_test_split(X, Y, test_size=0.2)\n",
    "\n",
    "dtr = DecisionTreeRegressor(max_depth=3)\n",
    "abr = AdaBoostRegressor(estimator=dtr, n_estimators=50, learning_rate=0.1, loss='linear', random_state=42)\n",
    "\n",
    "model_result = abr.fit(X_train, Y_train)\n",
    "\n",
    "print('Model Score Train', model_result.score(X_train, Y_train))\n",
    "print('Model Score Test', model_result.score(X_test, Y_test))\n",
    "\n",
    "y_pred = abr.predict(X_test)\n",
    "mse = mean_squared_error(Y_test, y_pred)\n",
    "print(\"Mean Squared Error:\", mse)"
   ]
  },
  {
   "cell_type": "code",
   "execution_count": 54,
   "id": "15d7fa42-6fed-4581-8e29-0fb84fa966b6",
   "metadata": {},
   "outputs": [
    {
     "name": "stdout",
     "output_type": "stream",
     "text": [
      "[8.67280922 4.98285695 4.9722159  5.08011313 5.08011313 5.08011313\n",
      " 5.11804049 5.10574426 4.97669831 5.11445077 5.11445077 4.98285695\n",
      " 4.98285695 4.9722159  4.98285695 4.98285695 4.9722159  4.9722159\n",
      " 5.08011313 5.03884876 4.98285695 4.98285695 5.08011313 5.07718603]\n"
     ]
    }
   ],
   "source": [
    "# Predict the BioActivity of Target Molecules\n",
    "\n",
    "outputs = abr.predict(target_df)\n",
    "\n",
    "print(outputs)"
   ]
  },
  {
   "cell_type": "code",
   "execution_count": null,
   "id": "7bcb014f-ef25-4a50-beae-d67a780ed62d",
   "metadata": {},
   "outputs": [],
   "source": []
  }
 ],
 "metadata": {
  "kernelspec": {
   "display_name": "Python 3 (ipykernel)",
   "language": "python",
   "name": "python3"
  },
  "language_info": {
   "codemirror_mode": {
    "name": "ipython",
    "version": 3
   },
   "file_extension": ".py",
   "mimetype": "text/x-python",
   "name": "python",
   "nbconvert_exporter": "python",
   "pygments_lexer": "ipython3",
   "version": "3.9.0"
  }
 },
 "nbformat": 4,
 "nbformat_minor": 5
}
